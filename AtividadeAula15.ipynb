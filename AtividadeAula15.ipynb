{
  "nbformat": 4,
  "nbformat_minor": 0,
  "metadata": {
    "colab": {
      "provenance": [],
      "include_colab_link": true
    },
    "kernelspec": {
      "name": "python3",
      "display_name": "Python 3"
    },
    "language_info": {
      "name": "python"
    }
  },
  "cells": [
    {
      "cell_type": "markdown",
      "metadata": {
        "id": "view-in-github",
        "colab_type": "text"
      },
      "source": [
        "<a href=\"https://colab.research.google.com/github/raibolato/Inteligencia-Artificial-I/blob/main/AtividadeAula15.ipynb\" target=\"_parent\"><img src=\"https://colab.research.google.com/assets/colab-badge.svg\" alt=\"Open In Colab\"/></a>"
      ]
    },
    {
      "cell_type": "markdown",
      "source": [
        "#Jogo da Velha"
      ],
      "metadata": {
        "id": "ECyIUAaPW-dP"
      }
    },
    {
      "cell_type": "markdown",
      "source": [
        "Importações: O módulo math é importado para usar math.inf, representando valores infinitamente grandes.\n",
        "\n",
        "Constantes: Definimos PLAYER como 'X' e OPPONENT como 'O' para facilitar a leitura do código."
      ],
      "metadata": {
        "id": "LHPWMpUkXDU8"
      }
    },
    {
      "cell_type": "code",
      "execution_count": null,
      "metadata": {
        "collapsed": true,
        "id": "SMkNvUcwTpJ7"
      },
      "outputs": [],
      "source": [
        "import math\n",
        "\n",
        "PLAYER = 'X'\n",
        "OPPONENT = 'O'"
      ]
    },
    {
      "cell_type": "markdown",
      "source": [
        "Função \"print_board\":\n",
        "\n",
        "Objetivo: Imprime o estado atual do tabuleiro.\n",
        "\n",
        "Detalhes: Itera sobre cada linha do tabuleiro e imprime as células separadas por \" | \".  \n",
        "\n",
        "Depois de cada linha, imprime um separador de linhas \"-----\"."
      ],
      "metadata": {
        "id": "xHX3TqWVXOIF"
      }
    },
    {
      "cell_type": "code",
      "source": [
        "def print_board(board):\n",
        "    for row in board:\n",
        "        print(\" | \".join(row))\n",
        "        print(\"-\" * 5)\n",
        "\n"
      ],
      "metadata": {
        "id": "NvQlFc-2WqrX"
      },
      "execution_count": null,
      "outputs": []
    },
    {
      "cell_type": "markdown",
      "source": [
        "Função \"is_moves_left\":\n",
        "\n",
        "Objetivo: Verifica se há movimentos possíveis restantes no tabuleiro.\n",
        "Detalhes: Se encontrar uma célula vazia (' '), retorna True. Caso contrário, retorna False."
      ],
      "metadata": {
        "id": "EepoW4j6XkYG"
      }
    },
    {
      "cell_type": "code",
      "source": [
        "def is_moves_left(board):\n",
        "    for row in board:\n",
        "        if ' ' in row:\n",
        "            return True\n",
        "    return False\n",
        "\n"
      ],
      "metadata": {
        "id": "3UcqB-fxWvT7"
      },
      "execution_count": null,
      "outputs": []
    },
    {
      "cell_type": "markdown",
      "source": [
        "Função \"evalute\":\n",
        "\n",
        "Objetivo: Avalia o tabuleiro e retorna um valor que representa o estado atual do jogo.\n",
        "Detalhes: Verifica linhas, colunas e diagonais para ver se há um vencedor. Retorna 10 se o jogador vencer, -10 se o oponente vencer e 0 se não houver vencedor."
      ],
      "metadata": {
        "id": "72yMQMAOXylb"
      }
    },
    {
      "cell_type": "code",
      "source": [
        "def evaluate(board):\n",
        "    # Checar linhas para ganhar\n",
        "    for row in range(3):\n",
        "        if board[row][0] == board[row][1] == board[row][2]:\n",
        "            if board[row][0] == PLAYER:\n",
        "                return 10\n",
        "            elif board[row][0] == OPPONENT:\n",
        "                return -10\n",
        "\n",
        "    # Chegar colunas para ganhar\n",
        "    for col in range(3):\n",
        "        if board[0][col] == board[1][col] == board[2][col]:\n",
        "            if board[0][col] == PLAYER:\n",
        "                return 10\n",
        "            elif board[0][col] == OPPONENT:\n",
        "                return -10\n",
        "\n",
        "    # Chegar diagonal para ganhar\n",
        "    if board[0][0] == board[1][1] == board[2][2]:\n",
        "        if board[0][0] == PLAYER:\n",
        "            return 10\n",
        "        elif board[0][0] == OPPONENT:\n",
        "            return -10\n",
        "\n",
        "    if board[0][2] == board[1][1] == board[2][0]:\n",
        "        if board[0][2] == PLAYER:\n",
        "            return 10\n",
        "        elif board[0][2] == OPPONENT:\n",
        "            return -10\n",
        "\n",
        "    # No ganhou\n",
        "    return 0\n",
        "\n"
      ],
      "metadata": {
        "id": "tRFUtiIkWy-J"
      },
      "execution_count": null,
      "outputs": []
    },
    {
      "cell_type": "markdown",
      "source": [
        "Função \"minimax\":\n",
        "\n",
        "Objetivo: Implementa o algoritmo Minimax recursivamente.\n",
        "Detalhes:\n",
        "Se o jogador (Maximizer) está jogando, tenta maximizar o valor retornado.\n",
        "Se o oponente (Minimizer) está jogando, tenta minimizar o valor retornado.\n",
        "Para cada movimento possível, chama recursivamente minimax e escolhe o melhor valor."
      ],
      "metadata": {
        "id": "zIsBqGB8YBFi"
      }
    },
    {
      "cell_type": "code",
      "source": [
        "def minimax(board, depth, is_max):\n",
        "    score = evaluate(board)\n",
        "\n",
        "    if score == 10:\n",
        "        return score\n",
        "    if score == -10:\n",
        "        return score\n",
        "    if not is_moves_left(board):\n",
        "        return 0\n",
        "\n",
        "    if is_max:\n",
        "        best = -math.inf\n",
        "\n",
        "        for i in range(3):\n",
        "            for j in range(3):\n",
        "                if board[i][j] == ' ':\n",
        "                    board[i][j] = PLAYER\n",
        "                    best = max(best, minimax(board, depth + 1, not is_max))\n",
        "                    board[i][j] = ' '\n",
        "        return best\n",
        "    else:\n",
        "        best = math.inf\n",
        "\n",
        "        for i in range(3):\n",
        "            for j in range(3):\n",
        "                if board[i][j] == ' ':\n",
        "                    board[i][j] = OPPONENT\n",
        "                    best = min(best, minimax(board, depth + 1, not is_max))\n",
        "                    board[i][j] = ' '\n",
        "        return best\n",
        "\n"
      ],
      "metadata": {
        "id": "s9uU8LqUW2cQ"
      },
      "execution_count": null,
      "outputs": []
    },
    {
      "cell_type": "markdown",
      "source": [
        "Função \"find_best_move\":\n",
        "\n",
        "Objetivo: Encontra o melhor movimento possível para o jogador usando o algoritmo Minimax.\n",
        "Detalhes: Para cada célula vazia no tabuleiro, simula um movimento, avalia usando minimax e escolhe o movimento com o melhor valor."
      ],
      "metadata": {
        "id": "_Whu1y-dYsp9"
      }
    },
    {
      "cell_type": "code",
      "source": [
        "def find_best_move(board):\n",
        "    best_val = -math.inf\n",
        "    best_move = (-1, -1)\n",
        "\n",
        "    for i in range(3):\n",
        "        for j in range(3):\n",
        "            if board[i][j] == ' ':\n",
        "                board[i][j] = PLAYER\n",
        "                move_val = minimax(board, 0, False)\n",
        "                board[i][j] = ' '\n",
        "                if move_val > best_val:\n",
        "                    best_move = (i, j)\n",
        "                    best_val = move_val\n",
        "    return best_move\n",
        "\n"
      ],
      "metadata": {
        "id": "ENYJG68SW5qE"
      },
      "execution_count": null,
      "outputs": []
    },
    {
      "cell_type": "markdown",
      "source": [
        "Função \"main\":\n",
        "\n",
        "Objetivo: Controla a jogabilidade e o fluxo do jogo.\n",
        "\n",
        "Detalhes:\n",
        "\n",
        "* Inicializa o tabuleiro vazio.\n",
        "* Em um loop infinito, imprime o tabuleiro, recebe a entrada do usuário, faz o movimento do usuário e avalia o estado do jogo.\n",
        "\n",
        "* Se o usuário vence, imprime o tabuleiro e uma mensagem de vitória e sai do loop.\n",
        "\n",
        "* Se não há movimentos restantes, imprime o tabuleiro e uma mensagem de empate e sai do loop.\n",
        "\n",
        "* Encontra e faz o melhor movimento para o jogador usando find_best_move.\n",
        "\n",
        "* Se o jogador vence, imprime o tabuleiro e uma mensagem de derrota e sai do loop.\n",
        "\n",
        "* Se não há movimentos restantes, imprime o tabuleiro e uma mensagem de empate e sai do loop."
      ],
      "metadata": {
        "id": "salfnjGeY9-Q"
      }
    },
    {
      "cell_type": "code",
      "source": [
        "def main():\n",
        "    board = [\n",
        "        [' ', ' ', ' '],\n",
        "        [' ', ' ', ' '],\n",
        "        [' ', ' ', ' ']\n",
        "    ]\n",
        "\n",
        "    while True:\n",
        "        print_board(board)\n",
        "        row, col = map(int, input(\"Entre com o seu movimento(linha coluna): \").split())\n",
        "        if board[row][col] != ' ':\n",
        "            print(\"Movimento inválido! Tente novamente.\")\n",
        "            continue\n",
        "        board[row][col] = OPPONENT\n",
        "\n",
        "        if evaluate(board) == -10:\n",
        "            print_board(board)\n",
        "            print(\"Você ganhou!\")\n",
        "            break\n",
        "\n",
        "        if not is_moves_left(board):\n",
        "            print_board(board)\n",
        "            print(\"Velha!\")\n",
        "            break\n",
        "\n",
        "        best_move = find_best_move(board)\n",
        "        board[best_move[0]][best_move[1]] = PLAYER\n",
        "\n",
        "        if evaluate(board) == 10:\n",
        "            print_board(board)\n",
        "            print(\"Você perdeu!\")\n",
        "            break\n",
        "\n",
        "        if not is_moves_left(board):\n",
        "            print_board(board)\n",
        "            print(\"Velha!\")\n",
        "            break\n",
        "\n",
        "if __name__ == \"__main__\":\n",
        "    main()\n"
      ],
      "metadata": {
        "colab": {
          "base_uri": "https://localhost:8080/"
        },
        "id": "PZWHtyWlW7eE",
        "outputId": "acd6c27f-3c8d-4db8-f286-aebf886f3d41"
      },
      "execution_count": null,
      "outputs": [
        {
          "output_type": "stream",
          "name": "stdout",
          "text": [
            "  |   |  \n",
            "-----\n",
            "  |   |  \n",
            "-----\n",
            "  |   |  \n",
            "-----\n",
            "Entre com o seu movimento(linha coluna): 1 1\n",
            "X |   |  \n",
            "-----\n",
            "  | O |  \n",
            "-----\n",
            "  |   |  \n",
            "-----\n",
            "Entre com o seu movimento(linha coluna): 2 2\n",
            "X |   | X\n",
            "-----\n",
            "  | O |  \n",
            "-----\n",
            "  |   | O\n",
            "-----\n",
            "Entre com o seu movimento(linha coluna): 0 1\n",
            "X | O | X\n",
            "-----\n",
            "  | O |  \n",
            "-----\n",
            "  | X | O\n",
            "-----\n",
            "Entre com o seu movimento(linha coluna): 1 0\n",
            "X | O | X\n",
            "-----\n",
            "O | O | X\n",
            "-----\n",
            "  | X | O\n",
            "-----\n",
            "Entre com o seu movimento(linha coluna): 2 0\n",
            "X | O | X\n",
            "-----\n",
            "O | O | X\n",
            "-----\n",
            "O | X | O\n",
            "-----\n",
            "Velha!\n"
          ]
        }
      ]
    }
  ]
}