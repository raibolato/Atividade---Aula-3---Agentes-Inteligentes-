{
  "nbformat": 4,
  "nbformat_minor": 0,
  "metadata": {
    "colab": {
      "provenance": [],
      "authorship_tag": "ABX9TyMZ7i5kHIQYhRq1FiFtsgms",
      "include_colab_link": true
    },
    "kernelspec": {
      "name": "python3",
      "display_name": "Python 3"
    },
    "language_info": {
      "name": "python"
    }
  },
  "cells": [
    {
      "cell_type": "markdown",
      "metadata": {
        "id": "view-in-github",
        "colab_type": "text"
      },
      "source": [
        "<a href=\"https://colab.research.google.com/github/raibolato/Inteligencia-Artificial-I/blob/main/Atividade%20aula%207.ipynb\" target=\"_parent\"><img src=\"https://colab.research.google.com/assets/colab-badge.svg\" alt=\"Open In Colab\"/></a>"
      ]
    },
    {
      "source": [
        "!pip install numpy"
      ],
      "cell_type": "code",
      "metadata": {
        "colab": {
          "base_uri": "https://localhost:8080/"
        },
        "id": "T3nC1JTuXokD",
        "outputId": "18746222-133c-4a45-fb96-5750c824e987"
      },
      "execution_count": 9,
      "outputs": [
        {
          "output_type": "stream",
          "name": "stdout",
          "text": [
            "Requirement already satisfied: numpy in /usr/local/lib/python3.10/dist-packages (1.25.2)\n"
          ]
        }
      ]
    },
    {
      "source": [
        "import numpy as np"
      ],
      "cell_type": "code",
      "metadata": {
        "id": "9Bv4TEQ1Xo4s"
      },
      "execution_count": 10,
      "outputs": []
    },
    {
      "cell_type": "code",
      "source": [
        "def busca_gulosa(destinos, atracoes):\n",
        "    caminho = []\n",
        "\n",
        "    caminho.append(destinos[0])\n",
        "\n",
        "    while len(destinos) > 1:\n",
        "        cidade_atual = caminho[-1]\n",
        "\n",
        "        menor_distancia = float('inf')\n",
        "        proxima_cidade = None\n",
        "\n",
        "        for cidade, distancia in atracoes[cidade_atual].items():\n",
        "            if cidade not in caminho and distancia < menor_distancia:\n",
        "                menor_distancia = distancia\n",
        "                proxima_cidade = cidade\n",
        "\n",
        "        caminho.append(proxima_cidade)\n",
        "        destinos.remove(proxima_cidade)\n",
        "\n",
        "    return caminho\n",
        "\n",
        "destinos = [\"A\", \"B\", \"C\", \"D\", \"E\"]\n",
        "atracoes = {\n",
        "    \"A\": {\"B\": 10, \"C\": 15, \"D\": 20, \"E\": 25},\n",
        "    \"B\": {\"A\": 10, \"C\": 9, \"D\": 18, \"E\": 8},\n",
        "    \"C\": {\"A\": 15, \"B\": 9, \"D\": 14, \"E\": 16},\n",
        "    \"D\": {\"A\": 20, \"B\": 18, \"C\": 14, \"E\": 4},\n",
        "    \"E\": {\"A\": 25, \"B\": 8, \"C\": 16, \"D\": 4}\n",
        "}\n",
        "\n",
        "caminho_viagem = busca_gulosa(destinos, atracoes)\n",
        "\n",
        "print(\"Caminho da Viagem:\")\n",
        "for cidade in caminho_viagem:\n",
        "    print(cidade, end=\" -> \")\n",
        "print(caminho_viagem[0])\n"
      ],
      "metadata": {
        "colab": {
          "base_uri": "https://localhost:8080/"
        },
        "id": "AQT1VZaXYtgb",
        "outputId": "25555a47-dd2e-4d16-faf1-6c75f2445276"
      },
      "execution_count": 11,
      "outputs": [
        {
          "output_type": "stream",
          "name": "stdout",
          "text": [
            "Caminho da Viagem:\n",
            "A -> B -> E -> D -> C -> A\n"
          ]
        }
      ]
    }
  ]
}