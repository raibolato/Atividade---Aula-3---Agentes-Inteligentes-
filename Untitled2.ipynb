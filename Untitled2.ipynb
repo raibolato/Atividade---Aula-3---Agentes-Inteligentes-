{
  "nbformat": 4,
  "nbformat_minor": 0,
  "metadata": {
    "colab": {
      "provenance": [],
      "authorship_tag": "ABX9TyPSq0giV7CFFP7YrGN5om3S",
      "include_colab_link": true
    },
    "kernelspec": {
      "name": "python3",
      "display_name": "Python 3"
    },
    "language_info": {
      "name": "python"
    }
  },
  "cells": [
    {
      "cell_type": "markdown",
      "metadata": {
        "id": "view-in-github",
        "colab_type": "text"
      },
      "source": [
        "<a href=\"https://colab.research.google.com/github/raibolato/Inteligencia-Artificial-I/blob/main/Untitled2.ipynb\" target=\"_parent\"><img src=\"https://colab.research.google.com/assets/colab-badge.svg\" alt=\"Open In Colab\"/></a>"
      ]
    },
    {
      "cell_type": "code",
      "execution_count": null,
      "metadata": {
        "id": "-n9_B69Kz3IX"
      },
      "outputs": [],
      "source": [
        "%pip install spacy"
      ]
    },
    {
      "cell_type": "code",
      "source": [
        "!python -m spacy download pt_core_news_sm"
      ],
      "metadata": {
        "id": "zJbQc7YZ0KLs"
      },
      "execution_count": null,
      "outputs": []
    },
    {
      "cell_type": "code",
      "source": [
        "import spacy"
      ],
      "metadata": {
        "id": "d1LLSOyl0_UT"
      },
      "execution_count": 6,
      "outputs": []
    },
    {
      "cell_type": "markdown",
      "source": [
        "Carregar a biblioteca spacy"
      ],
      "metadata": {
        "id": "01rUIScv1I5C"
      }
    },
    {
      "cell_type": "code",
      "source": [
        "nlp = spacy.load(\"pt_core_news_sm\")"
      ],
      "metadata": {
        "id": "VTf3O5ZO1LZz"
      },
      "execution_count": 17,
      "outputs": []
    },
    {
      "cell_type": "code",
      "source": [
        "texto = \"Eu sou o Raí e moro em Américo Brasiliense\""
      ],
      "metadata": {
        "id": "2UrYGekJ2RW8"
      },
      "execution_count": 20,
      "outputs": []
    },
    {
      "cell_type": "code",
      "source": [
        "doc = nlp(texto)"
      ],
      "metadata": {
        "id": "pGGQfmUy2Y9D"
      },
      "execution_count": 21,
      "outputs": []
    },
    {
      "cell_type": "code",
      "source": [
        "for entidade in doc.ents:\n",
        "  print(entidade.text, entidade.label_)"
      ],
      "metadata": {
        "colab": {
          "base_uri": "https://localhost:8080/"
        },
        "id": "u5-jBNq_2jnD",
        "outputId": "d86cab88-8653-45e9-8efa-81909e8a272c"
      },
      "execution_count": 22,
      "outputs": [
        {
          "output_type": "stream",
          "name": "stdout",
          "text": [
            "Raí MISC\n",
            "Américo Brasiliense LOC\n"
          ]
        }
      ]
    }
  ]
}