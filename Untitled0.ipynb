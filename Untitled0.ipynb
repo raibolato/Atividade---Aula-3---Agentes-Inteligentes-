{
  "nbformat": 4,
  "nbformat_minor": 0,
  "metadata": {
    "colab": {
      "provenance": [],
      "authorship_tag": "ABX9TyPbCsovbr9u3tW7ARMK+V5a",
      "include_colab_link": true
    },
    "kernelspec": {
      "name": "python3",
      "display_name": "Python 3"
    },
    "language_info": {
      "name": "python"
    }
  },
  "cells": [
    {
      "cell_type": "markdown",
      "metadata": {
        "id": "view-in-github",
        "colab_type": "text"
      },
      "source": [
        "<a href=\"https://colab.research.google.com/github/raibolato/Atividade---Aula-3---Agentes-Inteligentes-/blob/main/Untitled0.ipynb\" target=\"_parent\"><img src=\"https://colab.research.google.com/assets/colab-badge.svg\" alt=\"Open In Colab\"/></a>"
      ]
    },
    {
      "cell_type": "code",
      "execution_count": null,
      "metadata": {
        "colab": {
          "base_uri": "https://localhost:8080/"
        },
        "id": "GucBWG-EwJYR",
        "outputId": "069d9e0f-0f56-48ed-87dc-26295b978522"
      },
      "outputs": [
        {
          "name": "stdout",
          "output_type": "stream",
          "text": [
            "Escolha Pedra, Papel ou Tesoura: pedra\n",
            "Você escolheu: Pedra\n",
            "O computador escolheu: Tesoura\n",
            "Você ganhou! Pedra quebra a tesoura.\n",
            "Deseja jogar novamente? (sim/não): sim\n",
            "Escolha Pedra, Papel ou Tesoura: papel\n",
            "Você escolheu: Papel\n",
            "O computador escolheu: Tesoura\n",
            "Você perdeu! Tesoura corta o papel.\n",
            "Deseja jogar novamente? (sim/não): sim\n",
            "Escolha Pedra, Papel ou Tesoura: tesoura\n",
            "Você escolheu: Tesoura\n",
            "O computador escolheu: Pedra\n",
            "Você perdeu! Pedra quebra a tesoura.\n",
            "Deseja jogar novamente? (sim/não): não\n"
          ]
        }
      ],
      "source": [
        "import random\n",
        "\n",
        "def jogar():\n",
        "    opcoes = ['Pedra', 'Papel', 'Tesoura']\n",
        "\n",
        "    jogador = input(\"Escolha Pedra, Papel ou Tesoura: \").capitalize()\n",
        "    computador = random.choice(opcoes)\n",
        "\n",
        "    print(f\"Você escolheu: {jogador}\")\n",
        "    print(f\"O computador escolheu: {computador}\")\n",
        "\n",
        "    if jogador == computador:\n",
        "        print(\"Empate!\")\n",
        "    elif jogador == 'Pedra':\n",
        "        if computador == 'Papel':\n",
        "            print(\"Você perdeu! Papel embrulha a pedra.\")\n",
        "        else:\n",
        "            print(\"Você ganhou! Pedra quebra a tesoura.\")\n",
        "    elif jogador == 'Papel':\n",
        "        if computador == 'Tesoura':\n",
        "            print(\"Você perdeu! Tesoura corta o papel.\")\n",
        "        else:\n",
        "            print(\"Você ganhou! Papel embrulha a pedra.\")\n",
        "    elif jogador == 'Tesoura':\n",
        "        if computador == 'Pedra':\n",
        "            print(\"Você perdeu! Pedra quebra a tesoura.\")\n",
        "        else:\n",
        "            print(\"Você ganhou! Tesoura corta o papel.\")\n",
        "    else:\n",
        "        print(\"Opção inválida! Por favor, escolha Pedra, Papel ou Tesoura.\")\n",
        "\n",
        "    jogar_novamente = input(\"Deseja jogar novamente? (sim/não): \").lower()\n",
        "    if jogar_novamente == 'sim':\n",
        "        jogar()\n",
        "\n",
        "jogar()\n"
      ]
    }
  ]
}